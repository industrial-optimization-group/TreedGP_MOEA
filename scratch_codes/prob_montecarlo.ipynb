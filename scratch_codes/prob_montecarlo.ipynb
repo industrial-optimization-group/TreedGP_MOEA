{
 "metadata": {
  "language_info": {
   "codemirror_mode": {
    "name": "ipython",
    "version": 3
   },
   "file_extension": ".py",
   "mimetype": "text/x-python",
   "name": "python",
   "nbconvert_exporter": "python",
   "pygments_lexer": "ipython3",
   "version": "3.8.5"
  },
  "orig_nbformat": 2,
  "kernelspec": {
   "name": "python38564bitvenvvenv9d7a290444f8421ab4ad833444323fea",
   "display_name": "Python 3.8.5 64-bit ('venv': venv)"
  },
  "metadata": {
   "interpreter": {
    "hash": "42e3de1c12ed9279fa8b6f0499bb06d31a4e28b31998b4ff742aa618f9bd1665"
   }
  }
 },
 "nbformat": 4,
 "nbformat_minor": 2,
 "cells": [
  {
   "cell_type": "code",
   "execution_count": 22,
   "metadata": {},
   "outputs": [
    {
     "output_type": "stream",
     "name": "stdout",
     "text": [
      "0.0\n"
     ]
    }
   ],
   "source": [
    " import numpy as np\n",
    " n_samples = 1000\n",
    " a=np.random.rand(n_samples)-1\n",
    " b=np.random.rand(n_samples)\n",
    " a1=np.tile(a,(n_samples,1))\n",
    " b1=np.transpose(np.tile(b,(n_samples,1)))\n",
    " prob = np.sum(a1>b1)/(n_samples**2)\n",
    " print(prob)"
   ]
  },
  {
   "cell_type": "code",
   "execution_count": null,
   "metadata": {},
   "outputs": [],
   "source": []
  }
 ]
}