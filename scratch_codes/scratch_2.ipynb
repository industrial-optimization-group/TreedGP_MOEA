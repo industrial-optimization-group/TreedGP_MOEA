{
 "cells": [
  {
   "cell_type": "code",
   "execution_count": 1,
   "metadata": {
    "tags": [
     "outputPrepend",
     "outputPrepend",
     "outputPrepend",
     "outputPrepend",
     "outputPrepend"
    ]
   },
   "outputs": [
    {
     "output_type": "stream",
     "name": "stderr",
     "text": "', 'IPython.utils.text', 'pathlib', 'ntpath', 'IPython.core.magic', 'getopt', 'IPython.core.oinspect', 'typing', 'typing.io', 'typing.re', 'IPython.core.page', 'IPython.core.display', 'binascii', 'mimetypes', 'IPython.lib', 'IPython.lib.security', 'getpass', 'IPython.lib.pretty', 'datetime', '_datetime', 'IPython.utils.openpy', 'IPython.utils.dir2', 'IPython.utils.wildcard', 'pygments.lexers', 'pygments.lexers._mapping', 'pygments.modeline', 'pygments.plugin', 'pygments.util', 'pygments.lexers.python', 'pygments.lexer', 'pygments.filter', 'pygments.filters', 'pygments.token', 'pygments.regexopt', 'pygments.unistring', 'pygments.formatters', 'pygments.formatters._mapping', 'pygments.formatters.html', 'pygments.formatter', 'pygments.styles', 'IPython.core.inputtransformer2', 'IPython.core.interactiveshell', 'pickleshare', 'pickle', '_compat_pickle', '_pickle', 'IPython.core.prefilter', 'IPython.core.autocall', 'IPython.core.macro', 'IPython.core.splitinput', 'IPython.core.alias', 'IPython.core.builtin_trap', 'IPython.core.events', 'backcall', 'backcall.backcall', 'IPython.core.displayhook', 'IPython.core.displaypub', 'IPython.core.extensions', 'IPython.core.formatters', 'IPython.utils.sentinel', 'IPython.core.history', 'sqlite3', 'sqlite3.dbapi2', '_sqlite3', 'IPython.core.logger', 'IPython.core.payload', 'IPython.core.usage', 'IPython.display', 'IPython.lib.display', 'html', 'html.entities', 'IPython.utils.io', 'IPython.utils.capture', 'IPython.utils.strdispatch', 'IPython.core.hooks', 'IPython.utils.syspathcontext', 'IPython.utils.tempdir', 'IPython.utils.contexts', 'IPython.core.async_helpers', 'IPython.terminal.interactiveshell', 'asyncio', 'asyncio.base_events', 'concurrent', 'concurrent.futures', 'concurrent.futures._base', 'socket', '_socket', 'ssl', '_ssl', 'base64', 'asyncio.constants', 'asyncio.coroutines', 'asyncio.base_futures', 'asyncio.format_helpers', 'asyncio.log', 'asyncio.events', 'contextvars', '_contextvars', 'asyncio.base_tasks', '_asyncio', 'asyncio.futures', 'asyncio.protocols', 'asyncio.sslproto', 'asyncio.transports', 'asyncio.tasks', 'asyncio.locks', 'asyncio.runners', 'asyncio.queues', 'asyncio.streams', 'asyncio.subprocess', 'asyncio.unix_events', 'asyncio.base_subprocess', 'asyncio.selector_events', 'prompt_toolkit', 'prompt_toolkit.application', 'prompt_toolkit.application.application', 'prompt_toolkit.buffer', 'prompt_toolkit.application.current', 'prompt_toolkit.application.run_in_terminal', 'prompt_toolkit.eventloop', 'prompt_toolkit.eventloop.async_generator', 'prompt_toolkit.eventloop.utils', 'prompt_toolkit.eventloop.inputhook', 'prompt_toolkit.utils', 'wcwidth', 'wcwidth.wcwidth', 'wcwidth.table_wide', 'wcwidth.table_zero', 'prompt_toolkit.auto_suggest', 'prompt_toolkit.document', 'prompt_toolkit.clipboard', 'prompt_toolkit.clipboard.base', 'prompt_toolkit.selection', 'prompt_toolkit.clipboard.in_memory', 'prompt_toolkit.filters', 'prompt_toolkit.filters.app', 'prompt_toolkit.cache', 'prompt_toolkit.enums', 'prompt_toolkit.filters.base', 'prompt_toolkit.filters.cli', 'prompt_toolkit.filters.utils', 'prompt_toolkit.completion', 'prompt_toolkit.completion.base', 'prompt_toolkit.formatted_text', 'prompt_toolkit.formatted_text.ansi', 'prompt_toolkit.output', 'prompt_toolkit.output.base', 'prompt_toolkit.data_structures', 'prompt_toolkit.styles', 'prompt_toolkit.styles.base', 'prompt_toolkit.styles.defaults', 'prompt_toolkit.styles.named_colors', 'prompt_toolkit.styles.style', 'prompt_toolkit.styles.pygments', 'prompt_toolkit.styles.style_transformation', 'colorsys', 'prompt_toolkit.output.color_depth', 'prompt_toolkit.output.defaults', 'prompt_toolkit.patch_stdout', 'prompt_toolkit.output.vt100', 'array', 'prompt_toolkit.formatted_text.base', 'prompt_toolkit.mouse_events', 'prompt_toolkit.formatted_text.html', 'xml', 'xml.dom', 'xml.dom.domreg', 'xml.dom.minidom', 'xml.dom.minicompat', 'xml.dom.xmlbuilder', 'xml.dom.NodeFilter', 'prompt_toolkit.formatted_text.pygments', 'prompt_toolkit.formatted_text.utils', 'prompt_toolkit.completion.filesystem', 'prompt_toolkit.completion.fuzzy_completer', 'prompt_toolkit.completion.word_completer', 'prompt_toolkit.completion.nested', 'prompt_toolkit.history', 'prompt_toolkit.search', 'prompt_toolkit.key_binding', 'prompt_toolkit.key_binding.key_bindings', 'prompt_toolkit.keys', 'prompt_toolkit.key_binding.key_processor', 'prompt_toolkit.key_binding.vi_state', 'prompt_toolkit.validation', 'prompt_toolkit.input', 'prompt_toolkit.input.base', 'prompt_toolkit.input.defaults', 'prompt_toolkit.input.typeahead', 'prompt_toolkit.key_binding.bindings', 'prompt_toolkit.key_binding.bindings.page_navigation', 'prompt_toolkit.key_binding.bindings.scroll', 'prompt_toolkit.key_binding.defaults', 'prompt_toolkit.key_binding.bindings.basic', 'prompt_toolkit.key_binding.bindings.named_commands', 'prompt_toolkit.layout', 'prompt_toolkit.layout.containers', 'prompt_toolkit.layout.controls', 'prompt_toolkit.lexers', 'prompt_toolkit.lexers.base', 'prompt_toolkit.lexers.pygments', 'prompt_toolkit.layout.processors', 'prompt_toolkit.layout.utils', 'prompt_toolkit.layout.dimension', 'prompt_toolkit.layout.margins', 'prompt_toolkit.layout.mouse_handlers', 'prompt_toolkit.layout.screen', 'prompt_toolkit.layout.layout', 'prompt_toolkit.layout.menus', 'prompt_toolkit.key_binding.bindings.completion', 'prompt_toolkit.key_binding.bindings.cpr', 'prompt_toolkit.key_binding.bindings.emacs', 'prompt_toolkit.key_binding.bindings.mouse', 'prompt_toolkit.key_binding.bindings.vi', 'prompt_toolkit.input.vt100_parser', 'prompt_toolkit.input.ansi_escape_sequences', 'prompt_toolkit.key_binding.digraphs', 'prompt_toolkit.key_binding.emacs_state', 'prompt_toolkit.layout.dummy', 'prompt_toolkit.renderer', 'prompt_toolkit.application.dummy', 'prompt_toolkit.shortcuts', 'prompt_toolkit.shortcuts.dialogs', 'prompt_toolkit.key_binding.bindings.focus', 'prompt_toolkit.widgets', 'prompt_toolkit.widgets.base', 'prompt_toolkit.widgets.toolbars', 'prompt_toolkit.widgets.dialogs', 'prompt_toolkit.widgets.menus', 'prompt_toolkit.shortcuts.progress_bar', 'prompt_toolkit.shortcuts.progress_bar.base', 'prompt_toolkit.shortcuts.progress_bar.formatters', 'prompt_toolkit.shortcuts.prompt', 'prompt_toolkit.key_binding.bindings.auto_suggest', 'prompt_toolkit.key_binding.bindings.open_in_editor', 'prompt_toolkit.shortcuts.utils', 'pygments.style', 'IPython.terminal.debugger', 'IPython.core.completer', 'unicodedata', 'IPython.core.latex_symbols', 'IPython.utils.generics', 'jedi', 'jedi.api', 'parso', 'parso.parser', 'parso.tree', 'parso._compatibility', 'parso.utils', 'parso.pgen2', 'parso.pgen2.generator', 'parso.pgen2.grammar_parser', 'parso.python', 'parso.python.tokenize', 'parso.python.token', 'parso.grammar', 'parso.python.diff', 'difflib', 'parso.python.parser', 'parso.python.tree', 'parso.python.prefix', 'parso.cache', 'gc', 'parso.python.errors', 'parso.normalizer', 'parso.python.pep8', 'parso.file_io', 'jedi._compatibility', 'jedi.file_io', 'queue', '_queue', 'jedi.parser_utils', 'jedi.debug', 'jedi.settings', 'jedi.cache', 'jedi.api.classes', 'jedi.inference', 'jedi.inference.imports', 'jedi.inference.sys_path', 'jedi.inference.cache', 'jedi.inference.base_value', 'jedi.common', 'jedi.common.value', 'jedi.inference.helpers', 'jedi.inference.utils', 'jedi.common.utils', 'jedi.inference.compiled', 'jedi.inference.compiled.value', 'jedi.inference.filters', 'jedi.inference.flow_analysis', 'jedi.inference.recursion', 'jedi.inference.names', 'jedi.inference.docstrings', 'jedi.inference.lazy_value', 'jedi.plugins', 'jedi.inference.compiled.access', 'jedi.inference.compiled.getattr_static', 'jedi.inference.signature', 'jedi.inference.context', 'jedi.inference.analysis', 'jedi.inference.gradual', 'jedi.inference.gradual.typeshed', 'jedi.inference.gradual.stub_value', 'jedi.inference.value', 'jedi.inference.value.module', 'jedi.inference.value.klass', 'jedi.inference.arguments', 'jedi.inference.value.iterable', 'jedi.inference.value.dynamic_arrays', 'jedi.inference.value.function', 'jedi.inference.parser_cache', 'jedi.inference.gradual.generics', 'jedi.inference.value.instance', 'jedi.inference.gradual.typing', 'jedi.inference.gradual.base', 'jedi.inference.gradual.type_var', 'jedi.inference.syntax_tree', 'jedi.inference.gradual.annotation', 'jedi.inference.param', 'jedi.inference.value.decorator', 'jedi.inference.gradual.conversion', 'jedi.api.keywords', 'pydoc_data', 'pydoc_data.topics', 'jedi.api.completion_cache', 'jedi.api.helpers', 'jedi.api.interpreter', 'jedi.inference.compiled.mixed', 'jedi.api.completion', 'jedi.api.strings', 'jedi.api.file_name', 'jedi.api.environment', 'filecmp', 'jedi.inference.compiled.subprocess', 'jedi.inference.compiled.subprocess.functions', 'jedi.api.exceptions', 'jedi.api.project', 'jedi.inference.references', 'jedi.api.errors', 'jedi.api.refactoring', 'jedi.api.refactoring.extract', 'jedi.inference.gradual.utils', 'jedi.plugins.registry', 'jedi.plugins.stdlib', 'jedi.plugins.flask', 'jedi.plugins.pytest', 'IPython.terminal.ptutils', 'IPython.terminal.shortcuts', 'IPython.terminal.magics', 'IPython.lib.clipboard', 'IPython.terminal.pt_inputhooks', 'IPython.terminal.prompts', 'IPython.terminal.ipapp', 'IPython.core.magics', 'IPython.core.magics.auto', 'IPython.core.magics.basic', 'IPython.core.magics.code', 'urllib.request', 'email', 'http', 'http.client', 'email.parser', 'email.feedparser', 'email.errors', 'email._policybase', 'email.header', 'email.quoprimime', 'email.base64mime', 'email.charset', 'email.encoders', 'quopri', 'email.utils', 'email._parseaddr', 'calendar', 'email.message', 'uu', 'email._encoded_words', 'email.iterators', 'urllib.error', 'urllib.response', 'IPython.core.magics.config', 'IPython.core.magics.display', 'IPython.core.magics.execution', 'timeit', 'cProfile', '_lsprof', 'profile', 'pstats', 'IPython.utils.module_paths', 'IPython.utils.timing', 'IPython.core.magics.extension', 'IPython.core.magics.history', 'IPython.core.magics.logging', 'IPython.core.magics.namespace', 'IPython.core.magics.osm', 'IPython.core.magics.packaging', 'IPython.core.magics.pylab', 'IPython.core.pylabtools', 'IPython.core.magics.script', 'IPython.lib.backgroundjobs', 'IPython.core.shellapp', 'IPython.extensions', 'IPython.extensions.storemagic', 'IPython.utils.frame', 'jupyter_client', 'jupyter_client._version', 'jupyter_client.connect', 'zmq', 'ctypes', '_ctypes', 'ctypes._endian', 'zmq.backend', 'zmq.backend.select', 'zmq.backend.cython', 'zmq.backend.cython.constants', 'cython_runtime', 'zmq.backend.cython.error', '_cython_0_29_15', 'zmq.backend.cython.message', 'zmq.error', 'zmq.backend.cython.context', 'zmq.backend.cython.socket', 'zmq.backend.cython.utils', 'zmq.backend.cython._poll', 'zmq.backend.cython._version', 'zmq.backend.cython._device', 'zmq.backend.cython._proxy_steerable', 'zmq.sugar', 'zmq.sugar.constants', 'zmq.utils', 'zmq.utils.constant_names', 'zmq.sugar.context', 'zmq.sugar.attrsettr', 'zmq.sugar.socket', 'zmq.sugar.poll', 'zmq.utils.jsonapi', 'zmq.utils.strtypes', 'zmq.sugar.frame', 'zmq.sugar.tracker', 'zmq.sugar.version', 'zmq.sugar.stopwatch', 'jupyter_client.localinterfaces', 'jupyter_core', 'jupyter_core.version', 'jupyter_core.paths', 'distutils', 'distutils.util', 'distutils.errors', 'distutils.dep_util', 'distutils.spawn', 'distutils.debug', 'distutils.log', 'jupyter_client.launcher', 'traitlets.log', 'jupyter_client.client', 'jupyter_client.channels', 'jupyter_client.channelsabc', 'jupyter_client.clientabc', 'jupyter_client.manager', 'jupyter_client.kernelspec', 'jupyter_client.managerabc', 'jupyter_client.blocking', 'jupyter_client.blocking.client', 'jupyter_client.blocking.channels', 'jupyter_client.asynchronous', 'jupyter_client.asynchronous.client', 'zmq.asyncio', 'zmq._future', 'jupyter_client.asynchronous.channels', 'jupyter_client.multikernelmanager', 'uuid', '_uuid', 'ipykernel.kernelapp', 'tornado', 'tornado.ioloop', 'numbers', 'tornado.concurrent', 'tornado.log', 'logging.handlers', 'tornado.escape', 'tornado.util', 'tornado.speedups', 'curses', '_curses', 'zmq.eventloop', 'zmq.eventloop.ioloop', 'tornado.platform', 'tornado.platform.asyncio', 'tornado.gen', 'zmq.eventloop.zmqstream', 'ipykernel.iostream', 'imp', 'jupyter_client.session', 'hmac', 'jupyter_client.jsonutil', 'dateutil', 'dateutil._version', 'dateutil.parser', 'dateutil.parser._parser', 'decimal', '_decimal', 'dateutil.relativedelta', 'dateutil._common', 'dateutil.tz', 'dateutil.tz.tz', 'six.moves', 'dateutil.tz._common', 'dateutil.tz._factories', 'dateutil.parser.isoparser', '_strptime', 'jupyter_client.adapter', 'ipykernel.heartbeat', 'ipykernel.ipkernel', 'IPython.utils.tokenutil', 'ipykernel.comm', 'ipykernel.comm.manager', 'ipykernel.comm.comm', 'ipykernel.kernelbase', 'tornado.queues', 'tornado.locks', 'ipykernel.jsonutil', 'ipykernel.zmqshell', 'IPython.core.payloadpage', 'ipykernel.displayhook', 'ipykernel.eventloops', 'distutils.version', 'ipykernel.parentpoller', 'faulthandler', 'ipykernel.datapub', 'ipykernel.serialize', 'ipykernel.pickleutil', 'ipykernel.codeutil', 'IPython.core.completerlib', 'storemagic', 'numpy', 'numpy._globals', 'numpy.__config__', 'numpy.version', 'numpy._distributor_init', 'numpy.core', 'numpy.core.multiarray', 'numpy.core.overrides', 'numpy.core._multiarray_umath', 'numpy.compat', 'numpy.compat._inspect', 'numpy.compat.py3k', 'numpy.core.umath', 'numpy.core.numerictypes', 'numpy.core._string_helpers', 'numpy.core._type_aliases', 'numpy.core._dtype', 'numpy.core.numeric', 'numpy.core.shape_base', 'numpy.core._asarray', 'numpy.core.fromnumeric', 'numpy.core._methods', 'numpy.core._exceptions', 'numpy.core._ufunc_config', 'numpy.core.arrayprint', 'numpy.core.defchararray', 'numpy.core.records', 'numpy.core.memmap', 'numpy.core.function_base', 'numpy.core.machar', 'numpy.core.getlimits', 'numpy.core.einsumfunc', 'numpy.core._add_newdocs', 'numpy.core._multiarray_tests', 'numpy.core._dtype_ctypes', 'numpy.core._internal', 'numpy._pytesttester', 'numpy.lib', 'numpy.lib.mixins', 'numpy.lib.scimath', 'numpy.lib.type_check', 'numpy.lib.ufunclike', 'numpy.lib.index_tricks', 'numpy.matrixlib', 'numpy.matrixlib.defmatrix', 'numpy.linalg', 'numpy.linalg.linalg', 'numpy.lib.twodim_base', 'numpy.linalg.lapack_lite', 'numpy.linalg._umath_linalg', 'numpy.lib.function_base', 'numpy.lib.histograms', 'numpy.lib.stride_tricks', 'numpy.lib.nanfunctions', 'numpy.lib.shape_base', 'numpy.lib.polynomial', 'numpy.lib.utils', 'numpy.lib.arraysetops', 'numpy.lib.npyio', 'numpy.lib.format', 'numpy.lib._datasource', 'numpy.lib._iotools', 'numpy.lib.financial', 'numpy.lib.arrayterator', 'numpy.lib.arraypad', 'numpy.lib._version', 'numpy.fft', 'numpy.fft._pocketfft', 'numpy.fft._pocketfft_internal', 'numpy.fft.helper', 'numpy.polynomial', 'numpy.polynomial.polynomial', 'numpy.polynomial.polyutils', 'numpy.polynomial._polybase', 'numpy.polynomial.chebyshev', 'numpy.polynomial.legendre', 'numpy.polynomial.hermite', 'numpy.polynomial.hermite_e', 'numpy.polynomial.laguerre', 'numpy.random', 'numpy.random._pickle', 'numpy.random.mtrand', 'numpy.random._bit_generator', '_cython_0_29_14', 'numpy.random._common', 'secrets', 'numpy.random._bounded_integers', 'numpy.random._mt19937', 'numpy.random._philox', 'numpy.random._pcg64', 'numpy.random._sfc64', 'numpy.random._generator', 'numpy.ctypeslib', 'numpy.ma', 'numpy.ma.core', 'numpy.ma.extras', 'desdeo_problem', 'desdeo_problem.Constraint', 'logging.config', 'socketserver', 'configparser', 'desdeo_problem.Problem', 'pandas', 'pytz', 'pytz.exceptions', 'pytz.lazy', 'pytz.tzinfo', 'pytz.tzfile', 'pandas.compat', 'pandas.compat.numpy', 'pandas._libs', 'pandas._libs.tslibs', 'pandas._libs.tslibs.conversion', 'pandas._libs.tslibs.c_timestamp', 'pandas._libs.tslibs.nattype', '_cython_0_29_13', 'pandas._libs.tslibs.np_datetime', 'pandas._libs.tslibs.timezones', 'pandas._libs.tslibs.tzconversion', 'pandas._libs.tslibs.timedeltas', 'pandas._libs.tslibs.offsets', 'pandas._libs.tslibs.ccalendar', 'pandas._config', 'pandas._config.config', 'pandas._config.dates', 'pandas._config.display', 'pandas._config.localization', 'pandas._libs.tslibs.strptime', 'pandas._libs.tslibs.fields', 'pandas._libs.tslibs.parsing', 'pandas._libs.tslibs.period', 'pandas._libs.tslibs.frequencies', 'pandas._libs.tslibs.timestamps', 'pandas._libs.tslibs.resolution', 'pandas._libs.hashtable', 'pandas._libs.missing', 'pandas._libs.lib', 'fractions', 'pandas._libs.tslib', 'pandas.core', 'pandas.core.config_init', 'pandas.core.api', 'pandas.core.arrays', 'pandas.core.arrays.array_', 'pandas.core.dtypes', 'pandas.core.dtypes.common', 'pandas._libs.algos', 'pandas.core.dtypes.dtypes', 'pandas._libs.interval', 'pandas.core.dtypes.generic', 'pandas.core.dtypes.base', 'pandas.errors', 'pandas.core.dtypes.inference', 'pandas._typing', 'pandas.core.arrays.base', 'pandas.compat.numpy.function', 'pandas.util', 'pandas.util._decorators', 'pandas._libs.properties', 'pandas.core.util', 'pandas.core.util.hashing', 'pandas._libs.hashing', 'pandas.core.dtypes.cast', 'pandas.core.dtypes.missing', 'pandas.util._validators', 'pandas.core.ops', 'pandas._libs.ops', 'pandas.core.common', 'pandas.core.ops.missing', 'pandas.core.ops.roperator', 'pandas.core.ops.docstrings', 'pandas.core.sorting', 'pandas.core.algorithms', 'pandas.core.indexers', 'pandas.core.arrays.categorical', 'pandas.core.accessor', 'pandas.core.base', 'pandas.core.nanops', 'pandas.compat._optional', 'pandas.core.missing', 'pandas.io', 'pandas.io.formats', 'pandas.io.formats.console', 'pandas.core.arrays.datetimes', 'pandas.core.arrays.datetimelike', 'pandas.tseries', 'pandas.tseries.frequencies', 'pandas.tseries.offsets', 'dateutil.easter', 'pandas.core.tools', 'pandas.core.tools.datetimes', 'pandas.core.arrays._ranges', 'pandas.core.arrays.integer', 'pandas.core.tools.numeric', 'pandas.core.arrays.interval', 'pandas.core.indexes', 'pandas.core.indexes.base', 'pandas._libs.index', 'pandas._libs.join', 'pandas.core.dtypes.concat', 'pandas.core.indexes.frozen', 'pandas.io.formats.printing', 'pandas.core.strings', 'pandas.core.arrays.numpy_', 'pandas.core.arrays.period', 'pandas.core.arrays.sparse', 'pandas._libs.sparse', 'pandas.core.arrays.timedeltas', 'pandas.core.groupby', 'pandas.core.groupby.generic', 'pandas.core.frame', 'pandas.core.generic', 'pandas.core.index', 'pandas.core.indexes.api', 'pandas.core.indexes.category', 'pandas.core.indexes.datetimes', 'pandas.core.indexes.datetimelike', 'pandas.core.tools.timedeltas', 'pandas.core.indexes.numeric', 'pandas.core.indexes.interval', 'pandas.util._exceptions', 'pandas.core.indexes.multi', 'pandas.core.indexes.timedeltas', 'pandas.core.indexes.period', 'pandas.core.indexes.range', 'pandas.core.indexing', 'pandas._libs.indexing', 'pandas.core.internals', 'pandas.core.internals.blocks', 'pandas._libs.internals', 'pandas.core.internals.arrays', 'pandas.core.internals.managers', 'pandas.core.internals.concat', 'pandas.io.formats.format', 'pandas.io.common', 'csv', '_csv', 'gzip', 'mmap', 'zipfile', 'pandas.core.internals.construction', 'pandas.core.series', 'pandas._libs.reshape', 'pandas.core.indexes.accessors', 'pandas.plotting', 'pandas.plotting._core', 'pandas.plotting._matplotlib', 'pandas.plotting._matplotlib.boxplot', 'matplotlib', 'matplotlib.cbook', 'matplotlib.cbook.deprecation', 'matplotlib.rcsetup', 'matplotlib.fontconfig_pattern', 'pyparsing', 'matplotlib.colors', 'matplotlib.docstring', 'matplotlib._color_data', 'cycler', 'matplotlib._version', 'matplotlib.ft2font', 'kiwisolver']\n2020-05-23 12:51:15,298 - matplotlib - DEBUG - CACHEDIR=/home/atmazumd/.cache/matplotlib\n2020-05-23 12:51:15,304 - matplotlib.font_manager - DEBUG - Using fontManager instance from /home/atmazumd/.cache/matplotlib/fontlist-v310.json\n2020-05-23 12:51:16,491 - matplotlib.pyplot - DEBUG - Loaded backend module://ipykernel.pylab.backend_inline version unknown.\n2020-05-23 12:51:16,502 - matplotlib.pyplot - DEBUG - Loaded backend module://ipykernel.pylab.backend_inline version unknown.\n"
    }
   ],
   "source": [
    "import numpy as np\n",
    "from desdeo_problem.Problem import DataProblem\n",
    "from desdeo_problem.testproblems.TestProblems import test_problem_builder\n",
    "from pyDOE import lhs\n",
    "from desdeo_problem.Problem import DataProblem\n",
    "import pandas as pd\n",
    "from desdeo_emo.EAs.OfflineRVEA import RVEA"
   ]
  },
  {
   "cell_type": "code",
   "execution_count": 3,
   "metadata": {},
   "outputs": [],
   "source": [
    "from main_project_files.surrogate_fullGP import FullGPRegressor as fgp"
   ]
  },
  {
   "cell_type": "code",
   "execution_count": 4,
   "metadata": {},
   "outputs": [],
   "source": [
    "from main_project_files.surrogate_sparseGP import SparseGPRegressor as sgp"
   ]
  },
  {
   "cell_type": "code",
   "execution_count": 5,
   "metadata": {},
   "outputs": [],
   "source": [
    "problem_name = \"DTLZ2\"\n",
    "nvars = 10\n",
    "nobjs = 2\n",
    "nsamples = 100\n",
    "prob = test_problem_builder(problem_name, nvars, nobjs)\n",
    "\n",
    "x = lhs(nvars, nsamples)\n",
    "x_test = lhs(nvars, int(nsamples*0.2))\n",
    "\n",
    "y = prob.evaluate(x)\n",
    "#y=np.asarray(y[0])\n",
    "\n",
    "y_test = prob.evaluate(x_test)\n",
    "y_test=np.asarray(y_test[0])\n",
    "\n",
    "x_names = [f'x{i}' for i in range(1,nvars+1)]\n",
    "y_names = [\"f1\", \"f2\"]"
   ]
  },
  {
   "cell_type": "code",
   "execution_count": 6,
   "metadata": {},
   "outputs": [],
   "source": [
    "data = pd.DataFrame(np.hstack((x,y.objectives)), columns=x_names+y_names)\n",
    "problem = DataProblem(data=data, variable_names=x_names, objective_names=y_names)"
   ]
  },
  {
   "cell_type": "code",
   "execution_count": 7,
   "metadata": {},
   "outputs": [
    {
     "output_type": "stream",
     "name": "stderr",
     "text": "2020-05-23 12:51:23,893 - GP - INFO - initializing Y\n2020-05-23 12:51:23,895 - GP - INFO - initializing inference method\n2020-05-23 12:51:23,897 - GP - INFO - adding kernel and likelihood as parameters\n2020-05-23 12:51:24,152 - GP - INFO - initializing Y\n2020-05-23 12:51:24,153 - GP - INFO - initializing inference method\n2020-05-23 12:51:24,154 - GP - INFO - adding kernel and likelihood as parameters\n"
    }
   ],
   "source": [
    "problem.train(fgp)"
   ]
  },
  {
   "cell_type": "code",
   "execution_count": 32,
   "metadata": {},
   "outputs": [
    {
     "output_type": "stream",
     "name": "stderr",
     "text": "2020-05-22 00:45:15,228 - GP - INFO - initializing Y\n2020-05-22 00:45:15,230 - GP - INFO - initializing inference method\n2020-05-22 00:45:15,232 - GP - INFO - adding kernel and likelihood as parameters\n2020-05-22 00:45:15,234 - sparse gp - INFO - Adding Z as parameter\n2020-05-22 00:45:15,621 - GP - INFO - initializing Y\n2020-05-22 00:45:15,622 - GP - INFO - initializing inference method\n2020-05-22 00:45:15,623 - GP - INFO - adding kernel and likelihood as parameters\n2020-05-22 00:45:15,625 - sparse gp - INFO - Adding Z as parameter\n"
    }
   ],
   "source": [
    "problem.train(sgp)"
   ]
  },
  {
   "cell_type": "code",
   "execution_count": 8,
   "metadata": {
    "tags": [
     "outputPrepend",
     "outputPrepend",
     "outputPrepend",
     "outputPrepend",
     "outputPrepend",
     "outputPrepend",
     "outputPrepend",
     "outputPrepend",
     "outputPrepend",
     "outputPrepend",
     "outputPrepend",
     "outputPrepend",
     "outputPrepend",
     "outputPrepend",
     "outputPrepend",
     "outputPrepend",
     "outputPrepend",
     "outputPrepend",
     "outputPrepend",
     "outputPrepend",
     "outputPrepend",
     "outputPrepend",
     "outputPrepend",
     "outputPrepend",
     "outputPrepend",
     "outputPrepend",
     "outputPrepend",
     "outputPrepend",
     "outputPrepend",
     "outputPrepend",
     "outputPrepend",
     "outputPrepend"
    ]
   },
   "outputs": [],
   "source": [
    "\n",
    "evolver_opt = RVEA(problem, use_surrogates=True)\n",
    "while evolver_opt.continue_evolution():\n",
    "    evolver_opt.iterate()\n"
   ]
  },
  {
   "cell_type": "code",
   "execution_count": 9,
   "metadata": {},
   "outputs": [
    {
     "output_type": "execute_result",
     "data": {
      "text/plain": "EvaluationResults(objectives=array([[ 0.41241042,  1.476726  ],\n       [ 1.03508125,  1.47338604],\n       [ 1.67490335,  1.14077744],\n       [ 1.43946747,  0.948717  ],\n       [ 1.7923811 ,  0.94745098],\n       [ 0.66769887,  1.17171783],\n       [ 2.0771198 ,  1.05531204],\n       [ 0.91828359,  1.03971499],\n       [ 1.2475444 ,  0.90101802],\n       [ 1.25857588,  1.35573082],\n       [ 1.38966532,  0.72379466],\n       [ 0.63713138,  1.84803583],\n       [ 1.10532042,  1.25282203],\n       [ 0.2571855 ,  1.85024194],\n       [ 1.53048097,  0.71110298],\n       [ 0.38930327,  1.65020891],\n       [ 0.87366434,  1.38660873],\n       [ 0.53409201,  2.04227912],\n       [ 1.31166331,  1.18155988],\n       [ 0.80343295,  1.71518769],\n       [ 0.07382147,  2.08847627],\n       [ 1.09317939,  1.60040564],\n       [ 0.67450393,  1.80027129],\n       [ 0.03149489,  1.7521849 ],\n       [ 1.63185698,  0.22106072],\n       [ 1.64008892,  1.04159752],\n       [ 1.7571164 ,  0.20675752],\n       [ 0.45458646,  1.76242169],\n       [ 0.80256808,  1.63025371],\n       [ 1.53330797,  0.52111106],\n       [ 1.91904525,  0.58764309],\n       [ 0.85257196,  1.88916989],\n       [ 0.13876799,  1.72887971],\n       [ 1.48725813,  0.47946487],\n       [ 1.48157268,  0.27005716],\n       [ 0.85489921,  1.36955074],\n       [ 1.32570624,  1.18380136],\n       [ 0.82569077,  1.26723482],\n       [ 1.34309381,  0.69777797],\n       [ 0.8318808 ,  1.59366788],\n       [ 0.67824989,  1.99091851],\n       [ 1.38234731,  1.00459133],\n       [ 0.21281137,  1.89469514],\n       [ 1.21499423,  0.61651637],\n       [ 0.73713127,  1.66399266],\n       [ 1.18800587,  1.21324634],\n       [ 0.10821767,  1.71347781],\n       [ 0.98797066,  1.23197955],\n       [ 0.16541477,  1.51163748],\n       [ 1.51883105,  0.792641  ],\n       [ 1.02042437,  1.16918241],\n       [ 1.49934776,  0.24019381],\n       [ 1.78169943,  0.8444437 ],\n       [ 1.3071194 ,  1.12888566],\n       [ 0.31456529,  1.75993466],\n       [ 1.68402597,  0.25610888],\n       [ 1.49630044,  0.39281039],\n       [ 1.33953275,  1.38440725],\n       [ 0.86728358,  1.42462977],\n       [ 1.63372601,  0.36134324],\n       [ 1.73398066,  0.67809739],\n       [ 0.56276666,  1.77611659],\n       [ 0.46494216,  1.27599906],\n       [ 1.84173908,  0.19059722],\n       [ 1.41311037,  0.82992331],\n       [ 1.30917673,  0.93558224],\n       [ 1.32851852,  1.30680003],\n       [ 1.54205095,  0.02587759],\n       [ 1.64639067,  0.62375193],\n       [ 0.45141626,  2.09412294],\n       [ 0.92489408,  1.67629121],\n       [ 1.26356069,  1.50199452],\n       [ 1.05213872,  1.40404697],\n       [ 1.17557237,  1.52007993],\n       [ 0.69971423,  1.70316757],\n       [ 1.59949289, -0.01442916],\n       [ 0.06135254,  1.48242377],\n       [ 0.73996435,  1.4972383 ],\n       [ 1.84486668,  0.8377774 ],\n       [ 1.27985457,  0.95701455],\n       [ 1.73752903,  1.45700888],\n       [ 1.60006962,  1.16957756],\n       [ 1.36112177,  0.04834942],\n       [ 1.41339238,  0.45385251],\n       [ 0.05920407,  1.53355065],\n       [ 0.28050636,  1.90175925],\n       [ 1.75650725,  0.10680113],\n       [ 1.57106311,  0.40540714],\n       [ 0.39887911,  1.62645038],\n       [ 1.68545692,  0.29250372],\n       [ 1.6186038 ,  0.57539934],\n       [ 1.46985018,  0.31621894],\n       [ 1.92927873,  0.12731275],\n       [ 0.99718156,  1.50540123],\n       [ 1.61154509,  0.53548608],\n       [ 1.47150315,  0.17136247],\n       [ 1.31101216,  1.20730697],\n       [ 0.90361706,  1.24675209],\n       [ 0.32327472,  1.69742935],\n       [ 0.70970645,  1.96739299]]), fitness=array([[ 0.41241042,  1.476726  ],\n       [ 1.03508125,  1.47338604],\n       [ 1.67490335,  1.14077744],\n       [ 1.43946747,  0.948717  ],\n       [ 1.7923811 ,  0.94745098],\n       [ 0.66769887,  1.17171783],\n       [ 2.0771198 ,  1.05531204],\n       [ 0.91828359,  1.03971499],\n       [ 1.2475444 ,  0.90101802],\n       [ 1.25857588,  1.35573082],\n       [ 1.38966532,  0.72379466],\n       [ 0.63713138,  1.84803583],\n       [ 1.10532042,  1.25282203],\n       [ 0.2571855 ,  1.85024194],\n       [ 1.53048097,  0.71110298],\n       [ 0.38930327,  1.65020891],\n       [ 0.87366434,  1.38660873],\n       [ 0.53409201,  2.04227912],\n       [ 1.31166331,  1.18155988],\n       [ 0.80343295,  1.71518769],\n       [ 0.07382147,  2.08847627],\n       [ 1.09317939,  1.60040564],\n       [ 0.67450393,  1.80027129],\n       [ 0.03149489,  1.7521849 ],\n       [ 1.63185698,  0.22106072],\n       [ 1.64008892,  1.04159752],\n       [ 1.7571164 ,  0.20675752],\n       [ 0.45458646,  1.76242169],\n       [ 0.80256808,  1.63025371],\n       [ 1.53330797,  0.52111106],\n       [ 1.91904525,  0.58764309],\n       [ 0.85257196,  1.88916989],\n       [ 0.13876799,  1.72887971],\n       [ 1.48725813,  0.47946487],\n       [ 1.48157268,  0.27005716],\n       [ 0.85489921,  1.36955074],\n       [ 1.32570624,  1.18380136],\n       [ 0.82569077,  1.26723482],\n       [ 1.34309381,  0.69777797],\n       [ 0.8318808 ,  1.59366788],\n       [ 0.67824989,  1.99091851],\n       [ 1.38234731,  1.00459133],\n       [ 0.21281137,  1.89469514],\n       [ 1.21499423,  0.61651637],\n       [ 0.73713127,  1.66399266],\n       [ 1.18800587,  1.21324634],\n       [ 0.10821767,  1.71347781],\n       [ 0.98797066,  1.23197955],\n       [ 0.16541477,  1.51163748],\n       [ 1.51883105,  0.792641  ],\n       [ 1.02042437,  1.16918241],\n       [ 1.49934776,  0.24019381],\n       [ 1.78169943,  0.8444437 ],\n       [ 1.3071194 ,  1.12888566],\n       [ 0.31456529,  1.75993466],\n       [ 1.68402597,  0.25610888],\n       [ 1.49630044,  0.39281039],\n       [ 1.33953275,  1.38440725],\n       [ 0.86728358,  1.42462977],\n       [ 1.63372601,  0.36134324],\n       [ 1.73398066,  0.67809739],\n       [ 0.56276666,  1.77611659],\n       [ 0.46494216,  1.27599906],\n       [ 1.84173908,  0.19059722],\n       [ 1.41311037,  0.82992331],\n       [ 1.30917673,  0.93558224],\n       [ 1.32851852,  1.30680003],\n       [ 1.54205095,  0.02587759],\n       [ 1.64639067,  0.62375193],\n       [ 0.45141626,  2.09412294],\n       [ 0.92489408,  1.67629121],\n       [ 1.26356069,  1.50199452],\n       [ 1.05213872,  1.40404697],\n       [ 1.17557237,  1.52007993],\n       [ 0.69971423,  1.70316757],\n       [ 1.59949289, -0.01442916],\n       [ 0.06135254,  1.48242377],\n       [ 0.73996435,  1.4972383 ],\n       [ 1.84486668,  0.8377774 ],\n       [ 1.27985457,  0.95701455],\n       [ 1.73752903,  1.45700888],\n       [ 1.60006962,  1.16957756],\n       [ 1.36112177,  0.04834942],\n       [ 1.41339238,  0.45385251],\n       [ 0.05920407,  1.53355065],\n       [ 0.28050636,  1.90175925],\n       [ 1.75650725,  0.10680113],\n       [ 1.57106311,  0.40540714],\n       [ 0.39887911,  1.62645038],\n       [ 1.68545692,  0.29250372],\n       [ 1.6186038 ,  0.57539934],\n       [ 1.46985018,  0.31621894],\n       [ 1.92927873,  0.12731275],\n       [ 0.99718156,  1.50540123],\n       [ 1.61154509,  0.53548608],\n       [ 1.47150315,  0.17136247],\n       [ 1.31101216,  1.20730697],\n       [ 0.90361706,  1.24675209],\n       [ 0.32327472,  1.69742935],\n       [ 0.70970645,  1.96739299]]), constraints=None, uncertainity=array([[0.00789878, 0.00430856],\n       [0.0081235 , 0.00440232],\n       [0.00842941, 0.00454202],\n       [0.00758194, 0.00414708],\n       [0.00836446, 0.00450498],\n       [0.00642698, 0.00353771],\n       [0.00856387, 0.00458777],\n       [0.00695251, 0.00384493],\n       [0.00791987, 0.00432974],\n       [0.00765842, 0.00418704],\n       [0.00667485, 0.00370801],\n       [0.00805812, 0.00437788],\n       [0.00780665, 0.00426174],\n       [0.00824367, 0.00445369],\n       [0.00777738, 0.00424119],\n       [0.0079392 , 0.00431335],\n       [0.00749895, 0.00413569],\n       [0.00817212, 0.0044389 ],\n       [0.00765355, 0.00415497],\n       [0.00763142, 0.00417006],\n       [0.00848574, 0.00455267],\n       [0.00831208, 0.00447846],\n       [0.00813569, 0.00441513],\n       [0.00799461, 0.00433859],\n       [0.00789146, 0.00431165],\n       [0.00786318, 0.00427517],\n       [0.00832486, 0.00447496],\n       [0.0082329 , 0.00443926],\n       [0.0082108 , 0.00443021],\n       [0.00725246, 0.00398695],\n       [0.00843209, 0.00453842],\n       [0.00857313, 0.00458447],\n       [0.00820875, 0.00442354],\n       [0.00768814, 0.00420032],\n       [0.00671287, 0.00368077],\n       [0.00766599, 0.00421266],\n       [0.00807689, 0.00437836],\n       [0.00716159, 0.00395198],\n       [0.00728432, 0.00399878],\n       [0.00816032, 0.00440422],\n       [0.00827209, 0.00445937],\n       [0.00698884, 0.00382703],\n       [0.00829896, 0.00447333],\n       [0.00629205, 0.00346777],\n       [0.00806222, 0.00437999],\n       [0.00767238, 0.00419611],\n       [0.00799962, 0.00434356],\n       [0.00731781, 0.00403218],\n       [0.00680841, 0.00375386],\n       [0.00729474, 0.00401254],\n       [0.00698278, 0.00386066],\n       [0.00707906, 0.0038728 ],\n       [0.00736431, 0.00405272],\n       [0.00753137, 0.0041301 ],\n       [0.00838107, 0.00450663],\n       [0.00796179, 0.00431865],\n       [0.00696082, 0.0038376 ],\n       [0.00826545, 0.0044474 ],\n       [0.0076086 , 0.00416084],\n       [0.0081376 , 0.00440345],\n       [0.00769014, 0.00420727],\n       [0.00820141, 0.00442999],\n       [0.00695345, 0.00387241],\n       [0.00856885, 0.00457869],\n       [0.0074451 , 0.00408119],\n       [0.00738994, 0.00404641],\n       [0.00810114, 0.00439158],\n       [0.0077074 , 0.0042242 ],\n       [0.00778876, 0.00425322],\n       [0.00854491, 0.00457307],\n       [0.00819262, 0.00443005],\n       [0.00777205, 0.00423838],\n       [0.00798813, 0.004351  ],\n       [0.0082253 , 0.00444894],\n       [0.00755128, 0.00412811],\n       [0.00802682, 0.00434999],\n       [0.00763641, 0.0041904 ],\n       [0.00761274, 0.00416547],\n       [0.0080352 , 0.00433453],\n       [0.00720681, 0.00396831],\n       [0.00885137, 0.00469603],\n       [0.00793213, 0.00429248],\n       [0.00789794, 0.00429379],\n       [0.00624004, 0.00344072],\n       [0.00734927, 0.00405105],\n       [0.00854329, 0.00457683],\n       [0.00827658, 0.00447117],\n       [0.00817346, 0.00442215],\n       [0.00767703, 0.00420905],\n       [0.00825305, 0.00444173],\n       [0.00807486, 0.00438418],\n       [0.00729099, 0.00399761],\n       [0.00798957, 0.0043183 ],\n       [0.00781268, 0.00426662],\n       [0.00730551, 0.00400812],\n       [0.00748415, 0.0040725 ],\n       [0.00776655, 0.00424639],\n       [0.00678315, 0.00371387],\n       [0.00772934, 0.00423079],\n       [0.00843139, 0.00453568]]))"
     },
     "metadata": {},
     "execution_count": 9
    }
   ],
   "source": [
    "problem.evaluate(x, True)"
   ]
  },
  {
   "cell_type": "code",
   "execution_count": 19,
   "metadata": {},
   "outputs": [
    {
     "output_type": "execute_result",
     "data": {
      "text/plain": "array([[0.01140075, 0.00738925],\n       [0.01635681, 0.01118926],\n       [0.00982643, 0.00628442],\n       [0.01300802, 0.00882186],\n       [0.01429214, 0.00989537],\n       [0.00954182, 0.00605439],\n       [0.01398885, 0.00971016],\n       [0.02424387, 0.01772335],\n       [0.01208041, 0.00825033],\n       [0.01481524, 0.01045309],\n       [0.00820268, 0.00499993],\n       [0.01979945, 0.01420047],\n       [0.00945318, 0.00598583],\n       [0.01263466, 0.00823439],\n       [0.01421544, 0.00997172],\n       [0.02105689, 0.01536106],\n       [0.01460894, 0.01004638],\n       [0.00999702, 0.00637243],\n       [0.02335501, 0.01739057],\n       [0.01728396, 0.01222297],\n       [0.01214969, 0.00808815],\n       [0.0178866 , 0.0123623 ],\n       [0.01083186, 0.00706585],\n       [0.0070202 , 0.00403924],\n       [0.00944069, 0.00603417],\n       [0.01259363, 0.00855014],\n       [0.01054051, 0.00685502],\n       [0.02503295, 0.01775744],\n       [0.01574524, 0.01073151],\n       [0.01653874, 0.01148744],\n       [0.01578686, 0.0108446 ],\n       [0.00887932, 0.0056943 ],\n       [0.02565994, 0.01810757],\n       [0.01116063, 0.00726603],\n       [0.02983295, 0.02257043],\n       [0.01318739, 0.00891406],\n       [0.00947641, 0.00608558],\n       [0.01750447, 0.01237205],\n       [0.01036719, 0.00663173],\n       [0.01658806, 0.01184068],\n       [0.02078977, 0.01537605],\n       [0.0140197 , 0.00960158],\n       [0.02483135, 0.01849462],\n       [0.01605624, 0.01113601],\n       [0.02173306, 0.01593308],\n       [0.02501165, 0.01867166],\n       [0.0194775 , 0.01445215],\n       [0.01002503, 0.0063946 ],\n       [0.02076539, 0.01511979],\n       [0.01369762, 0.00944922]])"
     },
     "metadata": {},
     "execution_count": 19
    }
   ],
   "source": [
    "evolver_opt.population.uncertainty_archive['2']"
   ]
  },
  {
   "cell_type": "code",
   "execution_count": null,
   "metadata": {},
   "outputs": [],
   "source": []
  }
 ],
 "metadata": {
  "language_info": {
   "codemirror_mode": {
    "name": "ipython",
    "version": 3
   },
   "file_extension": ".py",
   "mimetype": "text/x-python",
   "name": "python",
   "nbconvert_exporter": "python",
   "pygments_lexer": "ipython3",
   "version": "3.7.6-final"
  },
  "orig_nbformat": 2,
  "kernelspec": {
   "name": "desdeo_emo",
   "display_name": "desdeo_EmO"
  }
 },
 "nbformat": 4,
 "nbformat_minor": 2
}