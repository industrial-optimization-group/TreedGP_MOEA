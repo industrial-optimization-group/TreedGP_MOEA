{
 "cells": [
  {
   "cell_type": "code",
   "execution_count": 1,
   "metadata": {
    "tags": []
   },
   "outputs": [
    {
     "output_type": "stream",
     "name": "stdout",
     "text": "warning in stationary: failed to import cython module: falling back to numpy\nwarning in coregionalize: failed to import cython module: falling back to numpy\nwarning in choleskies: failed to import cython module: falling back to numpy\n"
    }
   ],
   "source": [
    "import GPy\n",
    "import numpy as np\n",
    "from desdeo_problem.Problem import DataProblem\n",
    "\n",
    "from desdeo_problem.surrogatemodels.SurrogateModels import GaussianProcessRegressor\n",
    "from sklearn.gaussian_process.kernels import Matern\n",
    "from desdeo_emo.EAs.OfflineRVEA import ProbRVEAv3\n",
    "\n",
    "from desdeo_problem.testproblems.TestProblems import test_problem_builder\n",
    "from pyDOE import lhs\n",
    "import plotly.graph_objects as go\n",
    "import matplotlib.pyplot as plt\n",
    "import numpy as np\n",
    "import pandas as pd\n",
    "from pygmo import non_dominated_front_2d as nd2\n",
    "\n",
    "from sklearn.metrics import r2_score\n",
    "from sklearn.metrics import mean_squared_error\n",
    "import time"
   ]
  },
  {
   "cell_type": "code",
   "execution_count": 2,
   "metadata": {},
   "outputs": [],
   "source": [
    "problem_name = \"DTLZ2\"\n",
    "nvars = 10\n",
    "nobjs = 2\n",
    "nsamples = 100\n",
    "prob = test_problem_builder(problem_name, nvars, nobjs)\n",
    "\n",
    "x = lhs(nvars, nsamples)\n",
    "x_test = lhs(nvars, int(nsamples*0.2))\n",
    "\n",
    "y = prob.evaluate(x)\n",
    "y=np.asarray(y[0])\n",
    "\n",
    "y_test = prob.evaluate(x_test)\n",
    "y_test=np.asarray(y_test[0])\n",
    "\n",
    "x_names = [f'x{i}' for i in range(1,nvars)]\n",
    "y_names = [\"f1\", \"f2\"]"
   ]
  },
  {
   "cell_type": "code",
   "execution_count": 4,
   "metadata": {
    "tags": []
   },
   "outputs": [
    {
     "output_type": "stream",
     "name": "stderr",
     "text": "2020-09-22 13:09:08,598 - GP - INFO - initializing Y\n2020-09-22 13:09:08,606 - GP - INFO - initializing inference method\n2020-09-22 13:09:08,608 - GP - INFO - adding kernel and likelihood as parameters\nBuilding full GP...\nTime taken:\n1.460864543914795\nR squared\n0.946348613992138\n0.9346854338928551\nRMSE\n0.018489763642121772\n0.019297062928611455\n"
    }
   ],
   "source": [
    "print(\"Building full GP...\")\n",
    "start = time.time()\n",
    "m_full = GPy.models.GPRegression(x,y)\n",
    "m_full.optimize('bfgs')\n",
    "end = time.time()\n",
    "print(\"Time taken:\")\n",
    "print(end - start)\n",
    "#m_full.plot()\n",
    "#print(m_full)\n",
    "y_prediction = np.asarray(m_full.predict(x_test)[0])\n",
    "#y_error = np.subtract(y_prediction, y)\n",
    "print(\"R squared\")\n",
    "print(r2_score(y_test[:,0], y_prediction[:,0]))\n",
    "print(r2_score(y_test[:,1], y_prediction[:,1]))\n",
    "print(\"RMSE\")\n",
    "print(mean_squared_error(y_test[:,0], y_prediction[:,0]))\n",
    "print(mean_squared_error(y_test[:,1], y_prediction[:,1]))"
   ]
  },
  {
   "cell_type": "code",
   "execution_count": 5,
   "metadata": {},
   "outputs": [
    {
     "output_type": "execute_result",
     "data": {
      "text/plain": "(array([[1.2055012 , 0.7158557 ],\n        [1.7681938 , 0.00642852],\n        [1.80762319, 0.86840045],\n        [1.35051563, 1.08470514],\n        [0.19697805, 1.7047139 ],\n        [0.23793282, 1.58746368],\n        [1.57836414, 0.7651921 ],\n        [1.8001763 , 0.19031812],\n        [1.18856523, 1.26525903],\n        [0.81310956, 1.6295713 ],\n        [0.89602573, 1.50176056],\n        [1.85935922, 0.57323326],\n        [0.95606768, 1.08267087],\n        [0.51972041, 1.89509629],\n        [0.85132155, 1.41716339],\n        [1.58830614, 0.50075037],\n        [1.54499251, 0.86313501],\n        [1.5164268 , 1.41523077],\n        [0.13854622, 1.66565692],\n        [0.6864802 , 1.81056954]]),\n array([[0.00997285],\n        [0.01216785],\n        [0.03747719],\n        [0.02227567],\n        [0.01571174],\n        [0.01014839],\n        [0.01348219],\n        [0.02277761],\n        [0.01451101],\n        [0.01605539],\n        [0.01273579],\n        [0.01736584],\n        [0.01006444],\n        [0.01679543],\n        [0.01663879],\n        [0.02343939],\n        [0.01650408],\n        [0.02912815],\n        [0.01727582],\n        [0.02251575]]))"
     },
     "metadata": {},
     "execution_count": 5
    }
   ],
   "source": [
    "m_full.predict(x_test)\n"
   ]
  },
  {
   "cell_type": "code",
   "execution_count": 3,
   "metadata": {
    "tags": []
   },
   "outputs": [
    {
     "output_type": "stream",
     "name": "stderr",
     "text": "2020-08-14 01:13:15,824 - GP - INFO - initializing Y\n2020-08-14 01:13:15,826 - GP - INFO - initializing inference method\n2020-08-14 01:13:15,830 - GP - INFO - adding kernel and likelihood as parameters\n2020-08-14 01:13:15,835 - sparse gp - INFO - Adding Z as parameter\nTime taken:\n5.2162556648254395\nR squared\n0.9579992308686689\n0.9627690579852343\nRMSE\n0.012058411549233502\n0.013633993249994706\n"
    }
   ],
   "source": [
    "# Sparse GP models\n",
    "Z = np.random.rand(500,nvars)\n",
    "m = GPy.models.SparseGPRegression(x,y,Z=Z)\n",
    "start = time.time()\n",
    "m.inducing_inputs.fix()\n",
    "m.optimize('bfgs')\n",
    "end = time.time()\n",
    "print(\"Time taken:\")\n",
    "print(end - start)\n",
    "y_prediction = np.asarray(m.predict(x_test)[0])\n",
    "print(\"R squared\")\n",
    "print(r2_score(y_test[:,0], y_prediction[:,0]))\n",
    "print(r2_score(y_test[:,1], y_prediction[:,1]))\n",
    "print(\"RMSE\")\n",
    "print(mean_squared_error(y_test[:,0], y_prediction[:,0]))\n",
    "print(mean_squared_error(y_test[:,1], y_prediction[:,1]))\n",
    "\n"
   ]
  },
  {
   "cell_type": "code",
   "execution_count": 6,
   "metadata": {
    "tags": []
   },
   "outputs": [
    {
     "output_type": "stream",
     "name": "stdout",
     "text": "Time taken:\n169.37006163597107\nR squared\n0.9575921439554733\n0.9530028360321182\nRMSE\n0.012526382724409405\n0.015486414758992567\n"
    }
   ],
   "source": [
    "start = time.time()\n",
    "m.randomize()\n",
    "m.Z.unconstrain()\n",
    "m.optimize('bfgs')\n",
    "end = time.time()\n",
    "print(\"Time taken:\")\n",
    "print(end - start)\n",
    "y_prediction = np.asarray(m.predict(x_test)[0])\n",
    "print(\"R squared\")\n",
    "print(r2_score(y_test[:,0], y_prediction[:,0]))\n",
    "print(r2_score(y_test[:,1], y_prediction[:,1]))\n",
    "print(\"RMSE\")\n",
    "print(mean_squared_error(y_test[:,0], y_prediction[:,0]))\n",
    "print(mean_squared_error(y_test[:,1], y_prediction[:,1]))"
   ]
  },
  {
   "cell_type": "code",
   "execution_count": 12,
   "metadata": {
    "tags": [
     "outputPrepend"
    ]
   },
   "outputs": [
    {
     "output_type": "stream",
     "name": "stdout",
     "text": "   |        \n  \u001b[1m[474   7]\u001b[0;0m  |                 0.50394615  |     fixed     |        \n  \u001b[1m[474   8]\u001b[0;0m  |                 0.73309701  |     fixed     |        \n  \u001b[1m[474   9]\u001b[0;0m  |                 0.06656304  |     fixed     |        \n  \u001b[1m[475   0]\u001b[0;0m  |                 0.75340574  |     fixed     |        \n  \u001b[1m[475   1]\u001b[0;0m  |                 0.62512730  |     fixed     |        \n  \u001b[1m[475   2]\u001b[0;0m  |                 0.37252297  |     fixed     |        \n  \u001b[1m[475   3]\u001b[0;0m  |                 0.19813449  |     fixed     |        \n  \u001b[1m[475   4]\u001b[0;0m  |                 0.91589623  |     fixed     |        \n  \u001b[1m[475   5]\u001b[0;0m  |                 0.32252346  |     fixed     |        \n  \u001b[1m[475   6]\u001b[0;0m  |                 0.56606702  |     fixed     |        \n  \u001b[1m[475   7]\u001b[0;0m  |                 0.06186568  |     fixed     |        \n  \u001b[1m[475   8]\u001b[0;0m  |                 0.48615496  |     fixed     |        \n  \u001b[1m[475   9]\u001b[0;0m  |                 0.60200377  |     fixed     |        \n  \u001b[1m[476   0]\u001b[0;0m  |                 0.09485961  |     fixed     |        \n  \u001b[1m[476   1]\u001b[0;0m  |                 0.12966566  |     fixed     |        \n  \u001b[1m[476   2]\u001b[0;0m  |                 0.89861788  |     fixed     |        \n  \u001b[1m[476   3]\u001b[0;0m  |                 0.66340804  |     fixed     |        \n  \u001b[1m[476   4]\u001b[0;0m  |                 0.07948094  |     fixed     |        \n  \u001b[1m[476   5]\u001b[0;0m  |                 0.34706950  |     fixed     |        \n  \u001b[1m[476   6]\u001b[0;0m  |                 0.50416711  |     fixed     |        \n  \u001b[1m[476   7]\u001b[0;0m  |                 0.85702196  |     fixed     |        \n  \u001b[1m[476   8]\u001b[0;0m  |                 0.10010023  |     fixed     |        \n  \u001b[1m[476   9]\u001b[0;0m  |                 0.27487642  |     fixed     |        \n  \u001b[1m[477   0]\u001b[0;0m  |                 0.40541299  |     fixed     |        \n  \u001b[1m[477   1]\u001b[0;0m  |                 0.82147377  |     fixed     |        \n  \u001b[1m[477   2]\u001b[0;0m  |                 0.23817688  |     fixed     |        \n  \u001b[1m[477   3]\u001b[0;0m  |                 0.74060515  |     fixed     |        \n  \u001b[1m[477   4]\u001b[0;0m  |                 0.17138757  |     fixed     |        \n  \u001b[1m[477   5]\u001b[0;0m  |                 0.60758893  |     fixed     |        \n  \u001b[1m[477   6]\u001b[0;0m  |                 0.23947638  |     fixed     |        \n  \u001b[1m[477   7]\u001b[0;0m  |                 0.53316505  |     fixed     |        \n  \u001b[1m[477   8]\u001b[0;0m  |                 0.65364093  |     fixed     |        \n  \u001b[1m[477   9]\u001b[0;0m  |                 0.69266490  |     fixed     |        \n  \u001b[1m[478   0]\u001b[0;0m  |                 0.05742450  |     fixed     |        \n  \u001b[1m[478   1]\u001b[0;0m  |                 0.48315110  |     fixed     |        \n  \u001b[1m[478   2]\u001b[0;0m  |                 0.21100781  |     fixed     |        \n  \u001b[1m[478   3]\u001b[0;0m  |                 0.09226117  |     fixed     |        \n  \u001b[1m[478   4]\u001b[0;0m  |                 0.21413909  |     fixed     |        \n  \u001b[1m[478   5]\u001b[0;0m  |                 0.50792244  |     fixed     |        \n  \u001b[1m[478   6]\u001b[0;0m  |                 0.96324663  |     fixed     |        \n  \u001b[1m[478   7]\u001b[0;0m  |                 0.65655884  |     fixed     |        \n  \u001b[1m[478   8]\u001b[0;0m  |                 0.97472556  |     fixed     |        \n  \u001b[1m[478   9]\u001b[0;0m  |                 0.30010541  |     fixed     |        \n  \u001b[1m[479   0]\u001b[0;0m  |                 0.12472767  |     fixed     |        \n  \u001b[1m[479   1]\u001b[0;0m  |                 0.26029413  |     fixed     |        \n  \u001b[1m[479   2]\u001b[0;0m  |                 0.24479316  |     fixed     |        \n  \u001b[1m[479   3]\u001b[0;0m  |                 0.72658425  |     fixed     |        \n  \u001b[1m[479   4]\u001b[0;0m  |                 0.53912659  |     fixed     |        \n  \u001b[1m[479   5]\u001b[0;0m  |                 0.39257992  |     fixed     |        \n  \u001b[1m[479   6]\u001b[0;0m  |                 0.63604945  |     fixed     |        \n  \u001b[1m[479   7]\u001b[0;0m  |                 0.52833213  |     fixed     |        \n  \u001b[1m[479   8]\u001b[0;0m  |                 0.70720432  |     fixed     |        \n  \u001b[1m[479   9]\u001b[0;0m  |                 0.98620894  |     fixed     |        \n  \u001b[1m[480   0]\u001b[0;0m  |                 0.60221957  |     fixed     |        \n  \u001b[1m[480   1]\u001b[0;0m  |                 0.63766023  |     fixed     |        \n  \u001b[1m[480   2]\u001b[0;0m  |                 0.35149469  |     fixed     |        \n  \u001b[1m[480   3]\u001b[0;0m  |                 0.37088579  |     fixed     |        \n  \u001b[1m[480   4]\u001b[0;0m  |                 0.56839573  |     fixed     |        \n  \u001b[1m[480   5]\u001b[0;0m  |                 0.72650859  |     fixed     |        \n  \u001b[1m[480   6]\u001b[0;0m  |                 0.81997408  |     fixed     |        \n  \u001b[1m[480   7]\u001b[0;0m  |                 0.83290141  |     fixed     |        \n  \u001b[1m[480   8]\u001b[0;0m  |                 0.27054468  |     fixed     |        \n  \u001b[1m[480   9]\u001b[0;0m  |                 0.73465045  |     fixed     |        \n  \u001b[1m[481   0]\u001b[0;0m  |                 0.37691358  |     fixed     |        \n  \u001b[1m[481   1]\u001b[0;0m  |                 0.88133333  |     fixed     |        \n  \u001b[1m[481   2]\u001b[0;0m  |                 0.07019240  |     fixed     |        \n  \u001b[1m[481   3]\u001b[0;0m  |                 0.81107675  |     fixed     |        \n  \u001b[1m[481   4]\u001b[0;0m  |                 0.67931081  |     fixed     |        \n  \u001b[1m[481   5]\u001b[0;0m  |                 0.66338028  |     fixed     |        \n  \u001b[1m[481   6]\u001b[0;0m  |                 0.76806061  |     fixed     |        \n  \u001b[1m[481   7]\u001b[0;0m  |                 0.28616025  |     fixed     |        \n  \u001b[1m[481   8]\u001b[0;0m  |                 0.48308873  |     fixed     |        \n  \u001b[1m[481   9]\u001b[0;0m  |                 0.47854222  |     fixed     |        \n  \u001b[1m[482   0]\u001b[0;0m  |                 0.73574109  |     fixed     |        \n  \u001b[1m[482   1]\u001b[0;0m  |                 0.06942000  |     fixed     |        \n  \u001b[1m[482   2]\u001b[0;0m  |                 0.06933921  |     fixed     |        \n  \u001b[1m[482   3]\u001b[0;0m  |                 0.52227725  |     fixed     |        \n  \u001b[1m[482   4]\u001b[0;0m  |                 0.09307206  |     fixed     |        \n  \u001b[1m[482   5]\u001b[0;0m  |                 0.88350642  |     fixed     |        \n  \u001b[1m[482   6]\u001b[0;0m  |                 0.82317957  |     fixed     |        \n  \u001b[1m[482   7]\u001b[0;0m  |                 0.01816086  |     fixed     |        \n  \u001b[1m[482   8]\u001b[0;0m  |                 0.35640273  |     fixed     |        \n  \u001b[1m[482   9]\u001b[0;0m  |                 0.79037017  |     fixed     |        \n  \u001b[1m[483   0]\u001b[0;0m  |                 0.26302447  |     fixed     |        \n  \u001b[1m[483   1]\u001b[0;0m  |                 0.63038963  |     fixed     |        \n  \u001b[1m[483   2]\u001b[0;0m  |                 0.72742275  |     fixed     |        \n  \u001b[1m[483   3]\u001b[0;0m  |                 0.75463343  |     fixed     |        \n  \u001b[1m[483   4]\u001b[0;0m  |                 0.63974510  |     fixed     |        \n  \u001b[1m[483   5]\u001b[0;0m  |                 0.40232362  |     fixed     |        \n  \u001b[1m[483   6]\u001b[0;0m  |                 0.24938389  |     fixed     |        \n  \u001b[1m[483   7]\u001b[0;0m  |                 0.70221205  |     fixed     |        \n  \u001b[1m[483   8]\u001b[0;0m  |                 0.02800143  |     fixed     |        \n  \u001b[1m[483   9]\u001b[0;0m  |                 0.57057636  |     fixed     |        \n  \u001b[1m[484   0]\u001b[0;0m  |                 0.73208572  |     fixed     |        \n  \u001b[1m[484   1]\u001b[0;0m  |                 0.37371057  |     fixed     |        \n  \u001b[1m[484   2]\u001b[0;0m  |                 0.96111807  |     fixed     |        \n  \u001b[1m[484   3]\u001b[0;0m  |                 0.73863140  |     fixed     |        \n  \u001b[1m[484   4]\u001b[0;0m  |                 0.16278828  |     fixed     |        \n  \u001b[1m[484   5]\u001b[0;0m  |                 0.91003463  |     fixed     |        \n  \u001b[1m[484   6]\u001b[0;0m  |                 0.64360156  |     fixed     |        \n  \u001b[1m[484   7]\u001b[0;0m  |                 0.19725912  |     fixed     |        \n  \u001b[1m[484   8]\u001b[0;0m  |                 0.70340504  |     fixed     |        \n  \u001b[1m[484   9]\u001b[0;0m  |                 0.84620119  |     fixed     |        \n  \u001b[1m[485   0]\u001b[0;0m  |                 0.12503881  |     fixed     |        \n  \u001b[1m[485   1]\u001b[0;0m  |                 0.24439607  |     fixed     |        \n  \u001b[1m[485   2]\u001b[0;0m  |                 0.86073330  |     fixed     |        \n  \u001b[1m[485   3]\u001b[0;0m  |                 0.90559082  |     fixed     |        \n  \u001b[1m[485   4]\u001b[0;0m  |                 0.30280699  |     fixed     |        \n  \u001b[1m[485   5]\u001b[0;0m  |                 0.74135992  |     fixed     |        \n  \u001b[1m[485   6]\u001b[0;0m  |                 0.70755187  |     fixed     |        \n  \u001b[1m[485   7]\u001b[0;0m  |                 0.92721333  |     fixed     |        \n  \u001b[1m[485   8]\u001b[0;0m  |                 0.53386578  |     fixed     |        \n  \u001b[1m[485   9]\u001b[0;0m  |                 0.82895960  |     fixed     |        \n  \u001b[1m[486   0]\u001b[0;0m  |                 0.47530179  |     fixed     |        \n  \u001b[1m[486   1]\u001b[0;0m  |                 0.68873928  |     fixed     |        \n  \u001b[1m[486   2]\u001b[0;0m  |                 0.79834082  |     fixed     |        \n  \u001b[1m[486   3]\u001b[0;0m  |                 0.06434060  |     fixed     |        \n  \u001b[1m[486   4]\u001b[0;0m  |                 0.23270213  |     fixed     |        \n  \u001b[1m[486   5]\u001b[0;0m  |                 0.98274535  |     fixed     |        \n  \u001b[1m[486   6]\u001b[0;0m  |                 0.45565943  |     fixed     |        \n  \u001b[1m[486   7]\u001b[0;0m  |                 0.06530421  |     fixed     |        \n  \u001b[1m[486   8]\u001b[0;0m  |                 0.14293311  |     fixed     |        \n  \u001b[1m[486   9]\u001b[0;0m  |                 0.94206196  |     fixed     |        \n  \u001b[1m[487   0]\u001b[0;0m  |                 0.90243931  |     fixed     |        \n  \u001b[1m[487   1]\u001b[0;0m  |                 0.79854539  |     fixed     |        \n  \u001b[1m[487   2]\u001b[0;0m  |                 0.12805294  |     fixed     |        \n  \u001b[1m[487   3]\u001b[0;0m  |                 0.68173210  |     fixed     |        \n  \u001b[1m[487   4]\u001b[0;0m  |                 0.85042566  |     fixed     |        \n  \u001b[1m[487   5]\u001b[0;0m  |                 0.07961716  |     fixed     |        \n  \u001b[1m[487   6]\u001b[0;0m  |                 0.44317034  |     fixed     |        \n  \u001b[1m[487   7]\u001b[0;0m  |                 0.56497893  |     fixed     |        \n  \u001b[1m[487   8]\u001b[0;0m  |                 0.71851515  |     fixed     |        \n  \u001b[1m[487   9]\u001b[0;0m  |                 0.79659328  |     fixed     |        \n  \u001b[1m[488   0]\u001b[0;0m  |                 0.61316904  |     fixed     |        \n  \u001b[1m[488   1]\u001b[0;0m  |                 0.28878431  |     fixed     |        \n  \u001b[1m[488   2]\u001b[0;0m  |                 0.85020751  |     fixed     |        \n  \u001b[1m[488   3]\u001b[0;0m  |                 0.59029589  |     fixed     |        \n  \u001b[1m[488   4]\u001b[0;0m  |                 0.22584932  |     fixed     |        \n  \u001b[1m[488   5]\u001b[0;0m  |                 0.57270569  |     fixed     |        \n  \u001b[1m[488   6]\u001b[0;0m  |                 0.30122687  |     fixed     |        \n  \u001b[1m[488   7]\u001b[0;0m  |                 0.00079085  |     fixed     |        \n  \u001b[1m[488   8]\u001b[0;0m  |                 0.26225896  |     fixed     |        \n  \u001b[1m[488   9]\u001b[0;0m  |                 0.16969530  |     fixed     |        \n  \u001b[1m[489   0]\u001b[0;0m  |                 0.65913707  |     fixed     |        \n  \u001b[1m[489   1]\u001b[0;0m  |                 0.87916119  |     fixed     |        \n  \u001b[1m[489   2]\u001b[0;0m  |                 0.77122903  |     fixed     |        \n  \u001b[1m[489   3]\u001b[0;0m  |                 0.53040539  |     fixed     |        \n  \u001b[1m[489   4]\u001b[0;0m  |                 0.09473645  |     fixed     |        \n  \u001b[1m[489   5]\u001b[0;0m  |                 0.66115953  |     fixed     |        \n  \u001b[1m[489   6]\u001b[0;0m  |                 0.36609643  |     fixed     |        \n  \u001b[1m[489   7]\u001b[0;0m  |                 0.20039413  |     fixed     |        \n  \u001b[1m[489   8]\u001b[0;0m  |                 0.44692794  |     fixed     |        \n  \u001b[1m[489   9]\u001b[0;0m  |                 0.03275950  |     fixed     |        \n  \u001b[1m[490   0]\u001b[0;0m  |                 0.27545291  |     fixed     |        \n  \u001b[1m[490   1]\u001b[0;0m  |                 0.74829453  |     fixed     |        \n  \u001b[1m[490   2]\u001b[0;0m  |                 0.77686018  |     fixed     |        \n  \u001b[1m[490   3]\u001b[0;0m  |                 0.81581905  |     fixed     |        \n  \u001b[1m[490   4]\u001b[0;0m  |                 0.39267346  |     fixed     |        \n  \u001b[1m[490   5]\u001b[0;0m  |                 0.88481207  |     fixed     |        \n  \u001b[1m[490   6]\u001b[0;0m  |                 0.73283028  |     fixed     |        \n  \u001b[1m[490   7]\u001b[0;0m  |                 0.46379490  |     fixed     |        \n  \u001b[1m[490   8]\u001b[0;0m  |                 0.71596869  |     fixed     |        \n  \u001b[1m[490   9]\u001b[0;0m  |                 0.29842952  |     fixed     |        \n  \u001b[1m[491   0]\u001b[0;0m  |                 0.39304452  |     fixed     |        \n  \u001b[1m[491   1]\u001b[0;0m  |                 0.77994276  |     fixed     |        \n  \u001b[1m[491   2]\u001b[0;0m  |                 0.24777879  |     fixed     |        \n  \u001b[1m[491   3]\u001b[0;0m  |                 0.86001726  |     fixed     |        \n  \u001b[1m[491   4]\u001b[0;0m  |                 0.07156120  |     fixed     |        \n  \u001b[1m[491   5]\u001b[0;0m  |                 0.70042659  |     fixed     |        \n  \u001b[1m[491   6]\u001b[0;0m  |                 0.47575488  |     fixed     |        \n  \u001b[1m[491   7]\u001b[0;0m  |                 0.40941932  |     fixed     |        \n  \u001b[1m[491   8]\u001b[0;0m  |                 0.87154340  |     fixed     |        \n  \u001b[1m[491   9]\u001b[0;0m  |                 0.62647844  |     fixed     |        \n  \u001b[1m[492   0]\u001b[0;0m  |                 0.69854138  |     fixed     |        \n  \u001b[1m[492   1]\u001b[0;0m  |                 0.53253887  |     fixed     |        \n  \u001b[1m[492   2]\u001b[0;0m  |                 0.13231553  |     fixed     |        \n  \u001b[1m[492   3]\u001b[0;0m  |                 0.58427744  |     fixed     |        \n  \u001b[1m[492   4]\u001b[0;0m  |                 0.15084138  |     fixed     |        \n  \u001b[1m[492   5]\u001b[0;0m  |                 0.30358033  |     fixed     |        \n  \u001b[1m[492   6]\u001b[0;0m  |                 0.24853161  |     fixed     |        \n  \u001b[1m[492   7]\u001b[0;0m  |                 0.33615134  |     fixed     |        \n  \u001b[1m[492   8]\u001b[0;0m  |                 0.51872452  |     fixed     |        \n  \u001b[1m[492   9]\u001b[0;0m  |                 0.70953417  |     fixed     |        \n  \u001b[1m[493   0]\u001b[0;0m  |                 0.52905680  |     fixed     |        \n  \u001b[1m[493   1]\u001b[0;0m  |                 0.64572567  |     fixed     |        \n  \u001b[1m[493   2]\u001b[0;0m  |                 0.79732761  |     fixed     |        \n  \u001b[1m[493   3]\u001b[0;0m  |                 0.55708772  |     fixed     |        \n  \u001b[1m[493   4]\u001b[0;0m  |                 0.40776933  |     fixed     |        \n  \u001b[1m[493   5]\u001b[0;0m  |                 0.73739231  |     fixed     |        \n  \u001b[1m[493   6]\u001b[0;0m  |                 0.29903916  |     fixed     |        \n  \u001b[1m[493   7]\u001b[0;0m  |                 0.93127303  |     fixed     |        \n  \u001b[1m[493   8]\u001b[0;0m  |                 0.87820733  |     fixed     |        \n  \u001b[1m[493   9]\u001b[0;0m  |                 0.67359842  |     fixed     |        \n  \u001b[1m[494   0]\u001b[0;0m  |                 0.16648135  |     fixed     |        \n  \u001b[1m[494   1]\u001b[0;0m  |                 0.94506342  |     fixed     |        \n  \u001b[1m[494   2]\u001b[0;0m  |                 0.88534034  |     fixed     |        \n  \u001b[1m[494   3]\u001b[0;0m  |                 0.98085685  |     fixed     |        \n  \u001b[1m[494   4]\u001b[0;0m  |                 0.14551484  |     fixed     |        \n  \u001b[1m[494   5]\u001b[0;0m  |                 0.69502233  |     fixed     |        \n  \u001b[1m[494   6]\u001b[0;0m  |                 0.19195231  |     fixed     |        \n  \u001b[1m[494   7]\u001b[0;0m  |                 0.84265139  |     fixed     |        \n  \u001b[1m[494   8]\u001b[0;0m  |                 0.50783743  |     fixed     |        \n  \u001b[1m[494   9]\u001b[0;0m  |                 0.13812921  |     fixed     |        \n  \u001b[1m[495   0]\u001b[0;0m  |                 0.64007846  |     fixed     |        \n  \u001b[1m[495   1]\u001b[0;0m  |                 0.39339424  |     fixed     |        \n  \u001b[1m[495   2]\u001b[0;0m  |                 0.04569315  |     fixed     |        \n  \u001b[1m[495   3]\u001b[0;0m  |                 0.26114791  |     fixed     |        \n  \u001b[1m[495   4]\u001b[0;0m  |                 0.11979107  |     fixed     |        \n  \u001b[1m[495   5]\u001b[0;0m  |                 0.64252944  |     fixed     |        \n  \u001b[1m[495   6]\u001b[0;0m  |                 0.43174271  |     fixed     |        \n  \u001b[1m[495   7]\u001b[0;0m  |                 0.74213038  |     fixed     |        \n  \u001b[1m[495   8]\u001b[0;0m  |                 0.76312644  |     fixed     |        \n  \u001b[1m[495   9]\u001b[0;0m  |                 0.38352928  |     fixed     |        \n  \u001b[1m[496   0]\u001b[0;0m  |                 0.43831271  |     fixed     |        \n  \u001b[1m[496   1]\u001b[0;0m  |                 0.66061542  |     fixed     |        \n  \u001b[1m[496   2]\u001b[0;0m  |                 0.52894116  |     fixed     |        \n  \u001b[1m[496   3]\u001b[0;0m  |                 0.44664630  |     fixed     |        \n  \u001b[1m[496   4]\u001b[0;0m  |                 0.06978408  |     fixed     |        \n  \u001b[1m[496   5]\u001b[0;0m  |                 0.12690868  |     fixed     |        \n  \u001b[1m[496   6]\u001b[0;0m  |                 0.69685624  |     fixed     |        \n  \u001b[1m[496   7]\u001b[0;0m  |                 0.74737749  |     fixed     |        \n  \u001b[1m[496   8]\u001b[0;0m  |                 0.80077813  |     fixed     |        \n  \u001b[1m[496   9]\u001b[0;0m  |                 0.76105877  |     fixed     |        \n  \u001b[1m[497   0]\u001b[0;0m  |                 0.02500523  |     fixed     |        \n  \u001b[1m[497   1]\u001b[0;0m  |                 0.70357295  |     fixed     |        \n  \u001b[1m[497   2]\u001b[0;0m  |                 0.28192335  |     fixed     |        \n  \u001b[1m[497   3]\u001b[0;0m  |                 0.04101611  |     fixed     |        \n  \u001b[1m[497   4]\u001b[0;0m  |                 0.16753218  |     fixed     |        \n  \u001b[1m[497   5]\u001b[0;0m  |                 0.15071291  |     fixed     |        \n  \u001b[1m[497   6]\u001b[0;0m  |                 0.97402427  |     fixed     |        \n  \u001b[1m[497   7]\u001b[0;0m  |                 0.61337649  |     fixed     |        \n  \u001b[1m[497   8]\u001b[0;0m  |                 0.35920708  |     fixed     |        \n  \u001b[1m[497   9]\u001b[0;0m  |                 0.80203055  |     fixed     |        \n  \u001b[1m[498   0]\u001b[0;0m  |                 0.23992330  |     fixed     |        \n  \u001b[1m[498   1]\u001b[0;0m  |                 0.15021473  |     fixed     |        \n  \u001b[1m[498   2]\u001b[0;0m  |                 0.71494246  |     fixed     |        \n  \u001b[1m[498   3]\u001b[0;0m  |                 0.27157293  |     fixed     |        \n  \u001b[1m[498   4]\u001b[0;0m  |                 0.98515351  |     fixed     |        \n  \u001b[1m[498   5]\u001b[0;0m  |                 0.93196742  |     fixed     |        \n  \u001b[1m[498   6]\u001b[0;0m  |                 0.63478750  |     fixed     |        \n  \u001b[1m[498   7]\u001b[0;0m  |                 0.57738764  |     fixed     |        \n  \u001b[1m[498   8]\u001b[0;0m  |                 0.28113421  |     fixed     |        \n  \u001b[1m[498   9]\u001b[0;0m  |                 0.18550419  |     fixed     |        \n  \u001b[1m[499   0]\u001b[0;0m  |                 0.63377758  |     fixed     |        \n  \u001b[1m[499   1]\u001b[0;0m  |                 0.01962746  |     fixed     |        \n  \u001b[1m[499   2]\u001b[0;0m  |                 0.06326906  |     fixed     |        \n  \u001b[1m[499   3]\u001b[0;0m  |                 0.79455444  |     fixed     |        \n  \u001b[1m[499   4]\u001b[0;0m  |                 0.05133258  |     fixed     |        \n  \u001b[1m[499   5]\u001b[0;0m  |                 0.22688925  |     fixed     |        \n  \u001b[1m[499   6]\u001b[0;0m  |                 0.24829992  |     fixed     |        \n  \u001b[1m[499   7]\u001b[0;0m  |                 0.18734107  |     fixed     |        \n  \u001b[1m[499   8]\u001b[0;0m  |                 0.14375250  |     fixed     |        \n  \u001b[1m[499   9]\u001b[0;0m  |                 0.79793926  |     fixed     |        \n"
    }
   ],
   "source": [
    "print(m.Z)"
   ]
  },
  {
   "cell_type": "code",
   "execution_count": 41,
   "metadata": {},
   "outputs": [
    {
     "output_type": "stream",
     "name": "stdout",
     "text": "[[1598.70615983]] 4095.845078250409\n\nName : sparse_gp\nObjective : -1598.7061598329747\nNumber of Parameters : 503\nNumber of Optimization Parameters : 503\nUpdates : True\nParameters:\n  \u001b[1msparse_gp.             \u001b[0;0m  |                 value  |  constraints  |  priors\n  \u001b[1minducing_inputs        \u001b[0;0m  |              (50, 10)  |               |        \n  \u001b[1mrbf.variance           \u001b[0;0m  |    26.490103449601904  |      +ve      |        \n  \u001b[1mrbf.lengthscale        \u001b[0;0m  |     5.456090552872434  |      +ve      |        \n  \u001b[1mGaussian_noise.variance\u001b[0;0m  |  0.006859055478648036  |      +ve      |        \n"
    }
   ],
   "source": [
    "print(m.log_likelihood(), m_full.log_likelihood())\n",
    "print(m)"
   ]
  },
  {
   "cell_type": "code",
   "execution_count": 44,
   "metadata": {},
   "outputs": [
    {
     "output_type": "stream",
     "name": "stdout",
     "text": "[[2325.95403679]] 4095.845078250409\n\nName : sparse_gp\nObjective : -2325.9540367942536\nNumber of Parameters : 1003\nNumber of Optimization Parameters : 1003\nUpdates : True\nParameters:\n  \u001b[1msparse_gp.             \u001b[0;0m  |                  value  |  constraints  |  priors\n  \u001b[1minducing_inputs        \u001b[0;0m  |              (100, 10)  |               |        \n  \u001b[1mrbf.variance           \u001b[0;0m  |      29.39059191286705  |      +ve      |        \n  \u001b[1mrbf.lengthscale        \u001b[0;0m  |     3.6371820755805655  |      +ve      |        \n  \u001b[1mGaussian_noise.variance\u001b[0;0m  |  0.0022828089308227577  |      +ve      |        \n"
    }
   ],
   "source": [
    "print(m.log_likelihood(), m_full.log_likelihood())\n",
    "print(m)"
   ]
  },
  {
   "cell_type": "code",
   "execution_count": 47,
   "metadata": {},
   "outputs": [
    {
     "output_type": "stream",
     "name": "stdout",
     "text": "[[258.68560463]] 4095.845078250409\n\nName : sparse_gp\nObjective : -258.68560462854657\nNumber of Parameters : 103\nNumber of Optimization Parameters : 103\nUpdates : True\nParameters:\n  \u001b[1msparse_gp.             \u001b[0;0m  |               value  |  constraints  |  priors\n  \u001b[1minducing_inputs        \u001b[0;0m  |            (10, 10)  |               |        \n  \u001b[1mrbf.variance           \u001b[0;0m  |  31.098932087574315  |      +ve      |        \n  \u001b[1mrbf.lengthscale        \u001b[0;0m  |  28.188888205484627  |      +ve      |        \n  \u001b[1mGaussian_noise.variance\u001b[0;0m  |  0.0398449307299818  |      +ve      |        \n"
    }
   ],
   "source": [
    "print(m.log_likelihood(), m_full.log_likelihood())\n",
    "print(m)"
   ]
  },
  {
   "cell_type": "code",
   "execution_count": 50,
   "metadata": {},
   "outputs": [
    {
     "output_type": "stream",
     "name": "stdout",
     "text": "[[3848.26264372]] 4095.845078250409\n\nName : sparse_gp\nObjective : -3848.26264372468\nNumber of Parameters : 5003\nNumber of Optimization Parameters : 5003\nUpdates : True\nParameters:\n  \u001b[1msparse_gp.             \u001b[0;0m  |                   value  |  constraints  |  priors\n  \u001b[1minducing_inputs        \u001b[0;0m  |               (500, 10)  |               |        \n  \u001b[1mrbf.variance           \u001b[0;0m  |       40.67628849875355  |      +ve      |        \n  \u001b[1mrbf.lengthscale        \u001b[0;0m  |      2.9647226533433755  |      +ve      |        \n  \u001b[1mGaussian_noise.variance\u001b[0;0m  |  0.00013710403503997394  |      +ve      |        \n"
    }
   ],
   "source": [
    "print(m.log_likelihood(), m_full.log_likelihood())\n",
    "print(m)"
   ]
  },
  {
   "cell_type": "code",
   "execution_count": 28,
   "metadata": {
    "tags": []
   },
   "outputs": [
    {
     "output_type": "stream",
     "name": "stdout",
     "text": "[[0 1]]\n[[2 3]]\n[[0 1]\n [2 3]]\n"
    }
   ],
   "source": [
    "vals = np.array([[0, 0],\n",
    "                 [1, 0],\n",
    "                 [2, 0],\n",
    "                 [0, 1],\n",
    "                 [1, 1],\n",
    "                 [2, 1],\n",
    "                 [0, 2],\n",
    "                 [1, 2],\n",
    "                 [2, 2],\n",
    "                 [0, 3],\n",
    "                 [1, 3],\n",
    "                 [2, 3]])\n",
    "vals3 = np.array([[0, 0],\n",
    "                 [1, 0],\n",
    "                 [2, 0],\n",
    "                 [0, 1],\n",
    "                 [1, 1],\n",
    "                 [2, 1],\n",
    "                 [0, 2],\n",
    "                 [1, 2],\n",
    "                 [2, 2],\n",
    "                 [0, 3],\n",
    "                 [1, 3],\n",
    "                 [2, 3]])\n",
    "vals2 = [[0,1],[2,3]]\n",
    "valx = None\n",
    "for i in range(np.shape(vals2)[0]):\n",
    "    pos=np.where((vals == vals2[i]).all(axis=1))\n",
    "    vind=vals3[pos]\n",
    "    if valx is None:\n",
    "        valx=vind\n",
    "    else:\n",
    "        valx=np.vstack((valx,vind))\n",
    "print(valx)\n"
   ]
  },
  {
   "cell_type": "code",
   "execution_count": null,
   "metadata": {},
   "outputs": [],
   "source": []
  }
 ],
 "metadata": {
  "kernelspec": {
   "name": "desdeo_emo",
   "display_name": "desdeo_EmO"
  }
 },
 "nbformat": 4,
 "nbformat_minor": 4
}